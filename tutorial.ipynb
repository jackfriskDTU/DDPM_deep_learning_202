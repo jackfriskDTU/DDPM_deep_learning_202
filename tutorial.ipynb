{
 "cells": [
  {
   "cell_type": "code",
   "execution_count": 3,
   "metadata": {},
   "outputs": [],
   "source": [
    "# import all the functions from the ddpm module\n",
    "from ddpm import *\n",
    "import torch"
   ]
  },
  {
   "cell_type": "code",
   "execution_count": null,
   "metadata": {},
   "outputs": [],
   "source": [
    "# Example usage of UNet\n",
    "batch_size = 2\n",
    "model = UNet(3, 3, batch_size)\n",
    "x = torch.rand(batch_size, 3, 64, 64)\n",
    "t = torch.randint(1, 5, (batch_size,))\n",
    "y = model(x, t, verbose=True)\n",
    "print(y.shape)\n",
    "\n",
    "# Example usage of Preprocess\n",
    "train_loader, test_loader = Preprocess.preprocess_dataset(64, 'cifar10')\n",
    "Preprocess.print_shape(train_loader)\n",
    "\n",
    "# Example usage of transform_range\n",
    "tensor = torch.rand(3, 64, 64)\n",
    "transformed_tensor = transform_range(tensor, 0, 1, -1, 1)\n",
    "print(transformed_tensor)\n",
    "\n",
    "# Example usage of save_image\n",
    "save_image(transformed_tensor, save_dir='saved_images', filename='example.png')\n",
    "\n",
    "# Example usage of add_noise\n",
    "B, C, H, W = 2, 1, 3, 3\n",
    "T = 10\n",
    "df = torch.randn(B, C, H, W)\n",
    "betas = torch.linspace(1e-4, 0.02, T)\n",
    "t = torch.randint(0, T, (B,))\n",
    "df_noisy, noise = add_noise(df, betas, t)\n",
    "print(df_noisy)"
   ]
  },
  {
   "cell_type": "code",
   "execution_count": null,
   "metadata": {},
   "outputs": [],
   "source": []
  }
 ],
 "metadata": {
  "kernelspec": {
   "display_name": "Python 3 (ipykernel)",
   "language": "python",
   "name": "python3"
  },
  "language_info": {
   "codemirror_mode": {
    "name": "ipython",
    "version": 3
   },
   "file_extension": ".py",
   "mimetype": "text/x-python",
   "name": "python",
   "nbconvert_exporter": "python",
   "pygments_lexer": "ipython3",
   "version": "3.10.15"
  }
 },
 "nbformat": 4,
 "nbformat_minor": 2
}
