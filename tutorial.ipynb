{
 "cells": [
  {
   "cell_type": "markdown",
   "metadata": {},
   "source": [
    "## DDPM Demonstration Notebook\n",
    "\n",
    "This notebook demonstrates how to use our DDPM (Denoising Diffusion Probabilistic Model) code. \n",
    "We will:\n",
    "1. Import the DDPM library.\n",
    "2. Configure and load a pre-trained model.\n",
    "3. Show how to do inference (sampling) with the trained DDPM.\n",
    "4. Optionally visualize the results.\n"
   ]
  },
  {
   "cell_type": "code",
   "execution_count": 33,
   "metadata": {},
   "outputs": [],
   "source": [
    "# import ddpm\n",
    "# imported to highlight the package structure\n",
    "from ddpm import utils\n",
    "from ddpm import preprocess\n",
    "from ddpm import models\n",
    "from ddpm import forward_process\n",
    "from ddpm import reverse_process\n",
    "from ddpm import postprocess\n",
    "\n",
    "import torch\n",
    "import matplotlib.pyplot as plt\n",
    "import os\n",
    "import random"
   ]
  },
  {
   "cell_type": "code",
   "execution_count": 34,
   "metadata": {},
   "outputs": [
    {
     "name": "stdout",
     "output_type": "stream",
     "text": [
      "Using device: cuda\n"
     ]
    }
   ],
   "source": [
    "device = torch.device('cuda' if torch.cuda.is_available() else 'cpu')\n",
    "print(\"Using device:\", device)"
   ]
  },
  {
   "cell_type": "markdown",
   "metadata": {},
   "source": [
    "## Configuration\n",
    "\n",
    "Here we set up some hyperparameters for our DDPM. Typically, these would be read from a `Hydra` config file, but for a simple demonstration, we can just define them in the notebook.\n"
   ]
  },
  {
   "cell_type": "code",
   "execution_count": 41,
   "metadata": {},
   "outputs": [],
   "source": [
    "# Model hyperparameters\n",
    "dataset = \"cifar10\"     # can be 'cifar10' or 'mnist'\n",
    "time_dim = 750          # number of diffusion timesteps\n",
    "seed = 42               # random seed for reproducibility\n",
    "\n",
    "# Training parameters (only relevant if re-training or fine-tuning)\n",
    "# ints and floats\n",
    "train_size = 49920      # cifar10: 49920, mnist: 48000\n",
    "test_size = 8320        # cifar10: 8320, mnist: 9600\n",
    "\n",
    "batch_size = 64\n",
    "epochs = 10\n",
    "\n",
    "weight_decay = 1e-4\n",
    "learning_rate = 1e-1\n",
    "\n",
    "beta_lower = 1e-4\n",
    "beta_upper = 0.02\n",
    "\n",
    "# strings\n",
    "optimizer_type = \"Adam\"  # can be 'Adam' or 'SGD'\n",
    "lr_scheduler = \"CosineAnnealingWarmRestarts\" # None, StepLR, ExponentialLR, ReduceLROnPlateau, CosineAnnealingLR, CosineAnnealingWarmRestarts\n",
    "beta_scheduler = \"Cosine\"  # can be 'Linear' or 'Cosine'\n",
    "\n",
    "# Booleans\n",
    "early_stopping = True\n",
    "\n",
    "# Paths\n",
    "pretrained_weights_path = \"weights/cifar10_model_weights.pt\" # \"weights/cifar10_model_weights.pt\", \"weights/mnist_model_weights.pt\"\n",
    "save_dir = \"demo_images\"\n",
    "os.makedirs(save_dir, exist_ok=True)\n",
    "\n",
    "# Additional flags\n",
    "do_sample = True  # Whether we want to sample images at the end\n",
    "sample_size = 10   # Number of images to sample\n",
    "do_train = False   # Whether we want to train the model\n",
    "torch.manual_seed(seed)\n",
    "random.seed(seed)"
   ]
  },
  {
   "cell_type": "code",
   "execution_count": 36,
   "metadata": {},
   "outputs": [],
   "source": [
    "if dataset == \"cifar10\":\n",
    "\tin_channels = 3          # 3 for RGB (CIFAR)\n",
    "\tout_channels = 3         # same as in_channels if we are reconstructing images\n",
    "elif dataset == \"mnist\":\n",
    "\tin_channels = 1          # 1 for MNIST\n",
    "\tout_channels = 1         # same as in_channels if we are reconstructing images\n",
    "else:\n",
    "\traise ValueError(\"Unsupported dataset. Please choose either 'cifar10' or 'mnist'.\")"
   ]
  },
  {
   "cell_type": "markdown",
   "metadata": {},
   "source": [
    "## Create and/or Load Pre-Trained Model\n",
    "\n",
    "We'll instantiate a UNet model, then load the weights from a checkpoint if available.\n"
   ]
  },
  {
   "cell_type": "code",
   "execution_count": 37,
   "metadata": {},
   "outputs": [
    {
     "name": "stdout",
     "output_type": "stream",
     "text": [
      "Loading pre-trained weights from weights/cifar10_model_weights.pt\n"
     ]
    },
    {
     "name": "stderr",
     "output_type": "stream",
     "text": [
      "/tmp/ipykernel_1426670/1267656208.py:13: FutureWarning: You are using `torch.load` with `weights_only=False` (the current default value), which uses the default pickle module implicitly. It is possible to construct malicious pickle data which will execute arbitrary code during unpickling (See https://github.com/pytorch/pytorch/blob/main/SECURITY.md#untrusted-models for more details). In a future release, the default value for `weights_only` will be flipped to `True`. This limits the functions that could be executed during unpickling. Arbitrary objects will no longer be allowed to be loaded via this mode unless they are explicitly allowlisted by the user via `torch.serialization.add_safe_globals`. We recommend you start setting `weights_only=True` for any use case where you don't have full control of the loaded file. Please open an issue on GitHub for any issues related to this experimental feature.\n",
      "  model.load_state_dict(torch.load(pretrained_weights_path, map_location=device))\n"
     ]
    }
   ],
   "source": [
    "# Cell 3: Create model & load weights\n",
    "model = models.UNet(\n",
    "    in_channels=in_channels, \n",
    "    out_channels=out_channels, \n",
    ").to(device)\n",
    "\n",
    "# Optionally initialize weights if needed\n",
    "# model.apply(utils.init_weights)\n",
    "\n",
    "# Load existing pretrained weights\n",
    "if os.path.exists(pretrained_weights_path):\n",
    "    print(f\"Loading pre-trained weights from {pretrained_weights_path}\")\n",
    "    model.load_state_dict(torch.load(pretrained_weights_path, map_location=device))\n",
    "else:\n",
    "    print(\"Pretrained weights not found, consider training or check the path.\")\n"
   ]
  },
  {
   "cell_type": "markdown",
   "metadata": {},
   "source": [
    "## Quick Test of the Model on a Single Batch\n",
    "(Optional) - If you want to verify the model forward pass on a sample from CIFAR-10 or MNIST.\n"
   ]
  },
  {
   "cell_type": "code",
   "execution_count": 38,
   "metadata": {},
   "outputs": [
    {
     "name": "stdout",
     "output_type": "stream",
     "text": [
      "Files already downloaded and verified\n",
      "Files already downloaded and verified\n",
      "Test forward pass complete. Predicted noise shape: torch.Size([64, 3, 32, 32])\n"
     ]
    }
   ],
   "source": [
    "# Cell 4: Test forward pass\n",
    "train_loader, test_loader = preprocess.Preprocess.preprocess_dataset(\n",
    "    batch_size=batch_size, \n",
    "    dataset='cifar10',    # or 'mnist'\n",
    "    train_size=128,       # small subset just for testing\n",
    "    test_size=128\n",
    ")\n",
    "\n",
    "# Fetch a single batch\n",
    "batch, _ = next(iter(train_loader))\n",
    "batch = batch.to(device)\n",
    "\n",
    "# Generate random timesteps\n",
    "t = torch.randint(0, time_dim, (batch_size,), device=device)\n",
    "\n",
    "# Noising\n",
    "betas = utils.get_beta_schedule(beta_scheduler, time_dim, device, beta_lower, beta_upper)\n",
    "batch_noised, noise = forward_process.add_noise(batch, betas, t, device)\n",
    "\n",
    "model.eval()\n",
    "with torch.no_grad():\n",
    "    predicted_noise = model(batch_noised, t, verbose=False)\n",
    "    print(\"Test forward pass complete. Predicted noise shape:\", predicted_noise.shape)\n"
   ]
  },
  {
   "cell_type": "markdown",
   "metadata": {},
   "source": [
    "## Sampling from the Model\n",
    "\n",
    "We can now sample images using our reverse diffusion process. We'll generate a certain number of images (`sample_size`) for demonstration.\n"
   ]
  },
  {
   "cell_type": "code",
   "execution_count": 42,
   "metadata": {},
   "outputs": [
    {
     "data": {
      "image/png": "[encoded data removed]",
      "text/plain": [
       "<Figure size 1500x300 with 10 Axes>"
      ]
     },
     "metadata": {},
     "output_type": "display_data"
    }
   ],
   "source": [
    "if do_sample:\n",
    "    model.eval()\n",
    "    betas = utils.get_beta_schedule(beta_scheduler, time_dim, device, beta_lower, beta_upper)\n",
    "\n",
    "    # shape for CIFAR-10: (sample_size, 3, 32, 32)\n",
    "    if in_channels == 3:\n",
    "        shape = (sample_size, 3, 32, 32)\n",
    "    else:\n",
    "        shape = (sample_size, 1, 28, 28)  # e.g. MNIST\n",
    "\n",
    "    with torch.no_grad():\n",
    "        postprocess.demo_sample_and_plot(model, betas, shape, device, time_dim, sample_size, dataset=dataset, beta_scheduler=beta_scheduler, filename = f\"demo_images/{dataset}\")\n",
    "\n",
    "   "
   ]
  },
  {
   "cell_type": "markdown",
   "metadata": {},
   "source": [
    "## (Optional) Training\n",
    "\n",
    "If you want to train or finetune the model, you can call the `train_model` function here. "
   ]
  },
  {
   "cell_type": "code",
   "execution_count": 40,
   "metadata": {},
   "outputs": [],
   "source": [
    "if do_train:\n",
    "    # Load entire CIFAR-10 or MNIST\n",
    "    train_loader, test_loader = preprocess.Preprocess.preprocess_dataset(\n",
    "        batch_size=batch_size, \n",
    "        dataset=dataset,\n",
    "        train_size=train_size,\n",
    "        test_size=test_size\n",
    "    )\n",
    "\n",
    "    # Actually train\n",
    "    models.train_model(\n",
    "        train_loader=train_loader,\n",
    "        test_loader=test_loader,\n",
    "        model=model,\n",
    "        device=device,\n",
    "        file_name=\"my_finetuned_model\",\n",
    "        T=time_dim,\n",
    "        beta_lower=beta_lower,\n",
    "        beta_upper=beta_upper,\n",
    "        learning_rate=learning_rate,\n",
    "        lr_scheduler=lr_scheduler, # or \"None\"\n",
    "        num_epochs=epochs,\n",
    "        beta_scheduler=beta_scheduler,\n",
    "        batch_size=batch_size,\n",
    "        early_stopping=early_stopping,\n",
    "        optimizer=optimizer_type,\n",
    "        weight_decay=weight_decay,\n",
    "        neptune_log=False\n",
    "    )\n",
    "\n",
    "    # Save final weights\n",
    "    final_weight_path = \"model_weights/my_finetuned_model.pt\"\n",
    "    torch.save(model.state_dict(), final_weight_path)\n",
    "    print(f\"Model weights saved to {final_weight_path}\")\n"
   ]
  },
  {
   "cell_type": "markdown",
   "metadata": {},
   "source": [
    "## Summary \n"
   ]
  }
 ],
 "metadata": {
  "kernelspec": {
   "display_name": "Python 3 (ipykernel)",
   "language": "python",
   "name": "python3"
  },
  "language_info": {
   "codemirror_mode": {
    "name": "ipython",
    "version": 3
   },
   "file_extension": ".py",
   "mimetype": "text/x-python",
   "name": "python",
   "nbconvert_exporter": "python",
   "pygments_lexer": "ipython3",
   "version": "3.10.15"
  }
 },
 "nbformat": 4,
 "nbformat_minor": 2
}
